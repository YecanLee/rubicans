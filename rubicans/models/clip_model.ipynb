{
 "cells": [
  {
   "cell_type": "code",
   "execution_count": null,
   "metadata": {},
   "outputs": [],
   "source": [
    "import torch\n",
    "import torch.nn as nn\n",
    "\n",
    "from typing import List\n",
    "\n",
    "from transformers import CLIPTokenizer, CLIPTextModel"
   ]
  },
  {
   "cell_type": "code",
   "execution_count": null,
   "metadata": {},
   "outputs": [],
   "source": [
    "class CLIPTextEmbedder(nn.Module):\n",
    "    def __init__(self, version: str = 'openai/clip-vit-large-patch14', device = 'cuda:0', max_length : int = 77):\n",
    "        super().__init__()\n",
    "        self.tokenizer = CLIPTokenizer.from_pretrained(version)\n",
    "        self.transformers = CLIPTextModel.from_pretrained(version)\n",
    "\n",
    "        self.device = device\n",
    "        self.max_length = max_length\n",
    "\n",
    "    def forward(self, prompts:List(str)) -> torch.Tensor:\n",
    "        batch_encoding = self.tokenizer(prompts, truncation=True, max_length=self.max_length, return_length=True,\n",
    "                                        return_overflowing_token=False, padding='max_length', return_tensors='pt')\n",
    "        tokens = batch_encoding['input_ids'].to(self.device)\n",
    "        transformer = self.transformer.eval()\n",
    "        output = transformer(input_ids=tokens).last_hidden_state\n",
    "        return output"
   ]
  }
 ],
 "metadata": {
  "kernelspec": {
   "display_name": "ucd",
   "language": "python",
   "name": "python3"
  },
  "language_info": {
   "name": "python",
   "version": "3.11.0"
  }
 },
 "nbformat": 4,
 "nbformat_minor": 2
}

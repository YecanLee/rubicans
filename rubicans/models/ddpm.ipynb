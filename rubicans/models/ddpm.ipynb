{
 "cells": [
  {
   "cell_type": "code",
   "execution_count": null,
   "metadata": {},
   "outputs": [],
   "source": [
    "import torch \n",
    "import torch.nn as nn\n",
    "import torch.nn.functional as F\n",
    "\n",
    "from typing import Optional\n",
    "from helper import accumulate"
   ]
  },
  {
   "cell_type": "code",
   "execution_count": null,
   "metadata": {},
   "outputs": [],
   "source": [
    "class DenoisingProcess(nn.Module):\n",
    "    def __init__(self, alphas:torch.Tensor, betas:torch.Tensor, epsilon:torch.Tensor, T:int, sigma_sqaured:torch.Tensor, device:torch.device):\n",
    "        super().__init__()\n",
    "        self.betas = torch.linespace(0.0001, 0.02, T).to(self.device)\n",
    "        self.alphas = 1-self.betas\n",
    "        self.epsilon = epsilon\n",
    "        self.T = T\n",
    "        self.sigma_sqaured = sigma_sqaured\n",
    "        self.alphas_bar = torch.cumprod(self.alphas, dim=0)\n",
    "        self.device = device\n",
    "    \n",
    "    def reparameterization(self, x_0:torch.Tensor, t: int) -> [torch.Tensor, torch.Tensor]:\n",
    "        \"\"\"\n",
    "        x_0 : Original image tensor\n",
    "        t : Adding noise for t steps \n",
    "        \"\"\"\n",
    "        mean = accumulate(self.alphas_bar**0.5*x_0)\n",
    "        variance = 1-accumulate(self.alphas_bar, t)\n",
    "\n",
    "    def sampling(self, x_0:torch.Tensor, t:int, epsilon: Optional[torch.Tensor]=None):\n",
    "        \"\"\"\n",
    "        x_0 : Original image tensor\n",
    "        t : Adding noise for t steps\n",
    "        epsilon : Random numbers generated from a standard normal distribution\n",
    "        \"\"\"\n",
    "        if epsilon is None:\n",
    "            epsilon = torch.randn_like(x_0)\n",
    "        mean, variance = self.reparameterization(x_0, t)\n",
    "        return mean + (variance**0.5)*epsilon\n",
    "    \n",
    "    def denoising_sample(self, x_t:torch.Tensor, t:int):\n",
    "        epsilon_theta = self.epsilon(x_t,t)\n",
    "        alpha_bar = accumulate(self.alphas_bar, t)\n",
    "        alpha_t = accumulate(self.alphas, t)\n",
    "        second_part = (1-alpha_t)/(1-alpha_bar)**0.5\n",
    "        mean = 1 / (alpha_t**0.5)*(x_t - second_part * epsilon_theta)\n",
    "        variance = accumulate(self.sigma_sqaured, t)\n",
    "        epsilon = torch.randn_like(x_t,device=self.device)\n",
    "        return mean + variance**0.5*epsilon\n",
    "    \n",
    "    def loss(self, x_0:torch.Tensor, noise:Optional[torch.Tensor]=None):\n",
    "        batch_size = x_0.shape[0]\n",
    "        t = torch.randint(0, self.T, (batch_size, ), device=self.device, dtype = torch.long)\n",
    "        if noise is None:\n",
    "            noise = torch.randn_like(x_0)\n",
    "        x_t = self.sampling(x_0, t, noise)\n",
    "        epsilon_theta = self.epsilon(x_t, t)\n",
    "        loss = F.mse_loss(epsilon_theta, noise)\n",
    "        return loss "
   ]
  }
 ],
 "metadata": {
  "language_info": {
   "name": "python"
  }
 },
 "nbformat": 4,
 "nbformat_minor": 2
}
